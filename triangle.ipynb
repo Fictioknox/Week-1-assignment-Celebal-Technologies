{
  "nbformat": 4,
  "nbformat_minor": 0,
  "metadata": {
    "colab": {
      "provenance": []
    },
    "kernelspec": {
      "name": "python3",
      "display_name": "Python 3"
    },
    "language_info": {
      "name": "python"
    }
  },
  "cells": [
    {
      "cell_type": "code",
      "execution_count": 2,
      "metadata": {
        "colab": {
          "base_uri": "https://localhost:8080/"
        },
        "id": "LZGnkv85X9-1",
        "outputId": "0c89d53a-8cd7-49d6-da22-23b5f3ea7047"
      },
      "outputs": [
        {
          "output_type": "stream",
          "name": "stdout",
          "text": [
            "Lower Triangular Pattern:\n",
            "* \n",
            "* * \n",
            "* * * \n",
            "* * * * \n",
            "* * * * * \n",
            "\n",
            "Upper Triangular Pattern:\n",
            "* * * * * \n",
            "  * * * * \n",
            "    * * * \n",
            "      * * \n",
            "        * \n",
            "\n",
            "Pyramid Pattern:\n",
            "    * \n",
            "   * * \n",
            "  * * * \n",
            " * * * * \n",
            "* * * * * \n",
            "\n"
          ]
        }
      ],
      "source": [
        "def lower_triangular(n):\n",
        "    print(\"Lower Triangular Pattern:\")\n",
        "    for i in range(1, n + 1):\n",
        "        print(\"* \" * i)\n",
        "    print()\n",
        "\n",
        "def upper_triangular(n):\n",
        "    print(\"Upper Triangular Pattern:\")\n",
        "    for i in range(n, 0, -1):\n",
        "        spaces = \"  \" * (n - i)\n",
        "        stars = \"* \" * i\n",
        "        print(spaces + stars)\n",
        "    print()\n",
        "\n",
        "def pyramid(n):\n",
        "    print(\"Pyramid Pattern:\")\n",
        "    for i in range(1, n + 1):\n",
        "        spaces = \" \" * (n - i)\n",
        "        stars = \"* \" * i\n",
        "        print(spaces + stars)\n",
        "    print()\n",
        "\n",
        "rows = 5\n",
        "\n",
        "lower_triangular(rows)\n",
        "upper_triangular(rows)\n",
        "pyramid(rows)\n"
      ]
    },
    {
      "cell_type": "code",
      "source": [],
      "metadata": {
        "id": "HilwdH2hYA1W"
      },
      "execution_count": null,
      "outputs": []
    }
  ]
}